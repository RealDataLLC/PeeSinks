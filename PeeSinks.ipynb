{
 "cells": [
  {
   "cell_type": "markdown",
   "metadata": {},
   "source": [
    "# Do people at the International house pee in the sink?"
   ]
  },
  {
   "cell_type": "markdown",
   "metadata": {},
   "source": [
    "## Sample"
   ]
  },
  {
   "cell_type": "markdown",
   "metadata": {},
   "source": [
    "The sample was taken from men of the international house who had sinks in their dorm room. \n",
    "\n",
    "Women were not included because the iHouse sinks are quite high up. Most women would not be able to pee in one without putting her full weight on it unless she were very tall or had a standing peeing device, such as a GoGirl ™.\n",
    "We assume most women do not want to run the risk of damaging their sinks by sitting on them, so we think the proportion of women who pee in their sinks is very low. This would bias the sample. \n",
    "\n",
    "All data entry was anonymized to protect the people answering the survey. No door to door surveys were done namely because people would be biased to say no. I also considered rewording questions to “when was the last time you peed in the sink” so more people would accept its normality but it would bias it in the other direction"
   ]
  },
  {
   "cell_type": "markdown",
   "metadata": {},
   "source": [
    "## Analysis"
   ]
  },
  {
   "cell_type": "code",
   "execution_count": 1,
   "metadata": {
    "scrolled": false
   },
   "outputs": [
    {
     "data": {
      "text/html": [
       "<div>\n",
       "<style>\n",
       "    .dataframe thead tr:only-child th {\n",
       "        text-align: right;\n",
       "    }\n",
       "\n",
       "    .dataframe thead th {\n",
       "        text-align: left;\n",
       "    }\n",
       "\n",
       "    .dataframe tbody tr th {\n",
       "        vertical-align: top;\n",
       "    }\n",
       "</style>\n",
       "<table border=\"1\" class=\"dataframe\">\n",
       "  <thead>\n",
       "    <tr style=\"text-align: right;\">\n",
       "      <th></th>\n",
       "      <th>PeeSink</th>\n",
       "      <th>BathroomDistance</th>\n",
       "      <th>Religious</th>\n",
       "      <th>Alcohol</th>\n",
       "      <th>Country</th>\n",
       "      <th>Age</th>\n",
       "    </tr>\n",
       "  </thead>\n",
       "  <tbody>\n",
       "    <tr>\n",
       "      <th>0</th>\n",
       "      <td>Yes</td>\n",
       "      <td>0</td>\n",
       "      <td>Yes</td>\n",
       "      <td>Yes</td>\n",
       "      <td>France</td>\n",
       "      <td>21.0</td>\n",
       "    </tr>\n",
       "    <tr>\n",
       "      <th>1</th>\n",
       "      <td>No</td>\n",
       "      <td>2</td>\n",
       "      <td>Yes</td>\n",
       "      <td>Yes</td>\n",
       "      <td>USA</td>\n",
       "      <td>27.0</td>\n",
       "    </tr>\n",
       "    <tr>\n",
       "      <th>2</th>\n",
       "      <td>No</td>\n",
       "      <td>3</td>\n",
       "      <td>Yes</td>\n",
       "      <td>Yes</td>\n",
       "      <td>USA</td>\n",
       "      <td>29.0</td>\n",
       "    </tr>\n",
       "    <tr>\n",
       "      <th>3</th>\n",
       "      <td>No</td>\n",
       "      <td>3</td>\n",
       "      <td>No</td>\n",
       "      <td>Yes</td>\n",
       "      <td>NaN</td>\n",
       "      <td>28.0</td>\n",
       "    </tr>\n",
       "    <tr>\n",
       "      <th>4</th>\n",
       "      <td>Yes</td>\n",
       "      <td>4</td>\n",
       "      <td>Yes</td>\n",
       "      <td>Yes</td>\n",
       "      <td>USA</td>\n",
       "      <td>24.0</td>\n",
       "    </tr>\n",
       "  </tbody>\n",
       "</table>\n",
       "</div>"
      ],
      "text/plain": [
       "  PeeSink  BathroomDistance Religious Alcohol Country   Age\n",
       "0     Yes                 0       Yes     Yes  France  21.0\n",
       "1      No                 2       Yes     Yes    USA   27.0\n",
       "2      No                 3       Yes     Yes     USA  29.0\n",
       "3      No                 3        No     Yes     NaN  28.0\n",
       "4     Yes                 4       Yes     Yes     USA  24.0"
      ]
     },
     "execution_count": 1,
     "metadata": {},
     "output_type": "execute_result"
    }
   ],
   "source": [
    "import numpy as np # linear algebra\n",
    "import pandas as pd # data processing, CSV file I/O (e.g. pd.read_csv)\n",
    "import seaborn as sns\n",
    "import matplotlib.pyplot as plt\n",
    "from matplotlib.ticker import FormatStrFormatter\n",
    "\n",
    "#import fuzzywuzzy\n",
    "sns.set_style(\"dark\")\n",
    "\n",
    "#read data\n",
    "pee = pd.read_csv(\"PeeSinks.csv\") \n",
    "\n",
    "pee.head(5)"
   ]
  },
  {
   "cell_type": "code",
   "execution_count": 2,
   "metadata": {
    "scrolled": true
   },
   "outputs": [
    {
     "data": {
      "text/html": [
       "<div>\n",
       "<style>\n",
       "    .dataframe thead tr:only-child th {\n",
       "        text-align: right;\n",
       "    }\n",
       "\n",
       "    .dataframe thead th {\n",
       "        text-align: left;\n",
       "    }\n",
       "\n",
       "    .dataframe tbody tr th {\n",
       "        vertical-align: top;\n",
       "    }\n",
       "</style>\n",
       "<table border=\"1\" class=\"dataframe\">\n",
       "  <thead>\n",
       "    <tr style=\"text-align: right;\">\n",
       "      <th></th>\n",
       "      <th>PeeSink</th>\n",
       "      <th>BathroomDistance</th>\n",
       "      <th>Religious</th>\n",
       "      <th>Alcohol</th>\n",
       "      <th>Age</th>\n",
       "    </tr>\n",
       "  </thead>\n",
       "  <tbody>\n",
       "    <tr>\n",
       "      <th>count</th>\n",
       "      <td>29.000000</td>\n",
       "      <td>29.000000</td>\n",
       "      <td>29.000000</td>\n",
       "      <td>29.000000</td>\n",
       "      <td>28.000000</td>\n",
       "    </tr>\n",
       "    <tr>\n",
       "      <th>mean</th>\n",
       "      <td>0.413793</td>\n",
       "      <td>8.620690</td>\n",
       "      <td>0.482759</td>\n",
       "      <td>0.862069</td>\n",
       "      <td>25.750000</td>\n",
       "    </tr>\n",
       "    <tr>\n",
       "      <th>std</th>\n",
       "      <td>0.501230</td>\n",
       "      <td>4.952732</td>\n",
       "      <td>0.508548</td>\n",
       "      <td>0.350931</td>\n",
       "      <td>2.473938</td>\n",
       "    </tr>\n",
       "    <tr>\n",
       "      <th>min</th>\n",
       "      <td>0.000000</td>\n",
       "      <td>0.000000</td>\n",
       "      <td>0.000000</td>\n",
       "      <td>0.000000</td>\n",
       "      <td>21.000000</td>\n",
       "    </tr>\n",
       "    <tr>\n",
       "      <th>25%</th>\n",
       "      <td>0.000000</td>\n",
       "      <td>5.000000</td>\n",
       "      <td>0.000000</td>\n",
       "      <td>1.000000</td>\n",
       "      <td>24.000000</td>\n",
       "    </tr>\n",
       "    <tr>\n",
       "      <th>50%</th>\n",
       "      <td>0.000000</td>\n",
       "      <td>10.000000</td>\n",
       "      <td>0.000000</td>\n",
       "      <td>1.000000</td>\n",
       "      <td>25.500000</td>\n",
       "    </tr>\n",
       "    <tr>\n",
       "      <th>75%</th>\n",
       "      <td>1.000000</td>\n",
       "      <td>11.000000</td>\n",
       "      <td>1.000000</td>\n",
       "      <td>1.000000</td>\n",
       "      <td>27.250000</td>\n",
       "    </tr>\n",
       "    <tr>\n",
       "      <th>max</th>\n",
       "      <td>1.000000</td>\n",
       "      <td>20.000000</td>\n",
       "      <td>1.000000</td>\n",
       "      <td>1.000000</td>\n",
       "      <td>31.000000</td>\n",
       "    </tr>\n",
       "  </tbody>\n",
       "</table>\n",
       "</div>"
      ],
      "text/plain": [
       "         PeeSink  BathroomDistance  Religious    Alcohol        Age\n",
       "count  29.000000         29.000000  29.000000  29.000000  28.000000\n",
       "mean    0.413793          8.620690   0.482759   0.862069  25.750000\n",
       "std     0.501230          4.952732   0.508548   0.350931   2.473938\n",
       "min     0.000000          0.000000   0.000000   0.000000  21.000000\n",
       "25%     0.000000          5.000000   0.000000   1.000000  24.000000\n",
       "50%     0.000000         10.000000   0.000000   1.000000  25.500000\n",
       "75%     1.000000         11.000000   1.000000   1.000000  27.250000\n",
       "max     1.000000         20.000000   1.000000   1.000000  31.000000"
      ]
     },
     "execution_count": 2,
     "metadata": {},
     "output_type": "execute_result"
    }
   ],
   "source": [
    "#Convert certain values to binary for easier calculation\n",
    "pee[\"PeeSink\"] = pee.PeeSink.eq('Yes').mul(1)\n",
    "pee[\"Religious\"] = pee.Religious.eq('Yes').mul(1)\n",
    "pee[\"Alcohol\"] = pee.Alcohol.eq('Yes').mul(1)\n",
    "\n",
    "#look at data\n",
    "pee.describe()"
   ]
  },
  {
   "cell_type": "markdown",
   "metadata": {},
   "source": [
    "I converted it to binary so it makes the values easier to read when using describe. From the mean we can tell percentage of yes under each category already"
   ]
  },
  {
   "cell_type": "markdown",
   "metadata": {},
   "source": [
    "## Who actually pees in the sink"
   ]
  },
  {
   "cell_type": "code",
   "execution_count": 3,
   "metadata": {
    "scrolled": false
   },
   "outputs": [
    {
     "data": {
      "text/plain": [
       "Text(0.5,1,'Do you Pee in the Sink')"
      ]
     },
     "execution_count": 3,
     "metadata": {},
     "output_type": "execute_result"
    },
    {
     "data": {
      "image/png": "[encoded data removed]",
      "text/plain": [
       "<matplotlib.figure.Figure at 0x1a1101b8d0>"
      ]
     },
     "metadata": {
      "needs_background": "light"
     },
     "output_type": "display_data"
    }
   ],
   "source": [
    "# How many people pee in their sinks\n",
    "peers = pee.PeeSink.value_counts()\n",
    "bi = [\"No\", \"Yes\"]\n",
    "color = ['red' ,'yellow']\n",
    "\n",
    "#Creat plot \n",
    "#plt.figure(figsize = (10,10))\n",
    "sns.barplot(x = bi, y = peers, palette = color)\n",
    "sns.set_context(\"notebook\", font_scale=1, rc={\"lines.linewidth\": 2.5})\n",
    "\n",
    "#labels\n",
    "#plt.xlabel('Do you Pee in the Sink')\n",
    "plt.ylabel('Number of People')\n",
    "plt.title('Do you Pee in the Sink')"
   ]
  },
  {
   "cell_type": "markdown",
   "metadata": {},
   "source": [
    "Only 41% of the sample pee in their sink"
   ]
  },
  {
   "cell_type": "markdown",
   "metadata": {},
   "source": [
    "## Cleaning Data"
   ]
  },
  {
   "cell_type": "code",
   "execution_count": 4,
   "metadata": {
    "scrolled": true
   },
   "outputs": [
    {
     "data": {
      "text/plain": [
       "array(['France', 'USA', nan, 'India', 'Ukraine', 'South America', 'UK',\n",
       "       'United States', 'Saudi Arabia', 'China',\n",
       "       'Nelson, are you aware that people only tolerate you?', 'America',\n",
       "       'Pakistan', 'Thailand', 'Venezuela'], dtype=object)"
      ]
     },
     "execution_count": 4,
     "metadata": {},
     "output_type": "execute_result"
    }
   ],
   "source": [
    "#strip Characters in Country and Bathroom Distance\n",
    "pee[\"Country\"] = pee.Country.str.strip()\n",
    "pee[\"BathroomDistance\"] = pee[\"BathroomDistance\"].astype(int)\n",
    "\n",
    "#see which countries can be grouped up\n",
    "pee[\"Country\"].unique()"
   ]
  },
  {
   "cell_type": "markdown",
   "metadata": {},
   "source": [
    "So we allowed \"Country\" to be an input form which resulted in many different answers. I'm going to aggregate the data into broader geographic regions for easier estimation"
   ]
  },
  {
   "cell_type": "code",
   "execution_count": 5,
   "metadata": {},
   "outputs": [
    {
     "data": {
      "text/plain": [
       "array(['Europe', 'USA', nan, 'Asia', 'South America',\n",
       "       'Nelson, are you aware that people only tolerate you?'],\n",
       "      dtype=object)"
      ]
     },
     "execution_count": 5,
     "metadata": {},
     "output_type": "execute_result"
    }
   ],
   "source": [
    "#Data cleaning\n",
    "pee = pee.replace([\"America\",\"United States\"], \"USA\")  \n",
    "pee = pee.replace([\"France\",\"UK\", \"Ukraine\"], \"Europe\")  \n",
    "pee = pee.replace([\"Saudi Arabia\",\"China\", \"Thailand\", \"Pakistan\", \"India\"], \"Asia\")  \n",
    "pee.loc[pee.Country == \"Venezuela\", \"Country\"] = \"South America\"\n",
    "\n",
    "pee[\"Country\"].unique()"
   ]
  },
  {
   "cell_type": "code",
   "execution_count": 6,
   "metadata": {
    "scrolled": true
   },
   "outputs": [
    {
     "data": {
      "text/html": [
       "<div>\n",
       "<style>\n",
       "    .dataframe thead tr:only-child th {\n",
       "        text-align: right;\n",
       "    }\n",
       "\n",
       "    .dataframe thead th {\n",
       "        text-align: left;\n",
       "    }\n",
       "\n",
       "    .dataframe tbody tr th {\n",
       "        vertical-align: top;\n",
       "    }\n",
       "</style>\n",
       "<table border=\"1\" class=\"dataframe\">\n",
       "  <thead>\n",
       "    <tr style=\"text-align: right;\">\n",
       "      <th></th>\n",
       "      <th>Country</th>\n",
       "      <th>PeeSink</th>\n",
       "      <th>BathroomDistance</th>\n",
       "      <th>Religious</th>\n",
       "      <th>Alcohol</th>\n",
       "      <th>Age</th>\n",
       "    </tr>\n",
       "  </thead>\n",
       "  <tbody>\n",
       "    <tr>\n",
       "      <th>0</th>\n",
       "      <td>Asia</td>\n",
       "      <td>0.500000</td>\n",
       "      <td>11.200000</td>\n",
       "      <td>0.400000</td>\n",
       "      <td>1.0</td>\n",
       "      <td>25.800000</td>\n",
       "    </tr>\n",
       "    <tr>\n",
       "      <th>1</th>\n",
       "      <td>Europe</td>\n",
       "      <td>0.333333</td>\n",
       "      <td>3.666667</td>\n",
       "      <td>0.333333</td>\n",
       "      <td>1.0</td>\n",
       "      <td>25.333333</td>\n",
       "    </tr>\n",
       "    <tr>\n",
       "      <th>2</th>\n",
       "      <td>Nelson, are you aware that people only tolerat...</td>\n",
       "      <td>0.000000</td>\n",
       "      <td>10.000000</td>\n",
       "      <td>0.000000</td>\n",
       "      <td>0.0</td>\n",
       "      <td>23.000000</td>\n",
       "    </tr>\n",
       "    <tr>\n",
       "      <th>3</th>\n",
       "      <td>South America</td>\n",
       "      <td>0.000000</td>\n",
       "      <td>13.000000</td>\n",
       "      <td>0.500000</td>\n",
       "      <td>0.5</td>\n",
       "      <td>25.500000</td>\n",
       "    </tr>\n",
       "    <tr>\n",
       "      <th>4</th>\n",
       "      <td>USA</td>\n",
       "      <td>0.500000</td>\n",
       "      <td>7.700000</td>\n",
       "      <td>0.800000</td>\n",
       "      <td>0.9</td>\n",
       "      <td>25.500000</td>\n",
       "    </tr>\n",
       "  </tbody>\n",
       "</table>\n",
       "</div>"
      ],
      "text/plain": [
       "                                             Country   PeeSink  \\\n",
       "0                                               Asia  0.500000   \n",
       "1                                             Europe  0.333333   \n",
       "2  Nelson, are you aware that people only tolerat...  0.000000   \n",
       "3                                      South America  0.000000   \n",
       "4                                                USA  0.500000   \n",
       "\n",
       "   BathroomDistance  Religious  Alcohol        Age  \n",
       "0         11.200000   0.400000      1.0  25.800000  \n",
       "1          3.666667   0.333333      1.0  25.333333  \n",
       "2         10.000000   0.000000      0.0  23.000000  \n",
       "3         13.000000   0.500000      0.5  25.500000  \n",
       "4          7.700000   0.800000      0.9  25.500000  "
      ]
     },
     "execution_count": 6,
     "metadata": {},
     "output_type": "execute_result"
    }
   ],
   "source": [
    "#average per group\n",
    "group = pee.groupby('Country', as_index=False).agg('mean')\n",
    "temp = group.sort_values(by = 'PeeSink', ascending=True)\n",
    "group"
   ]
  },
  {
   "cell_type": "code",
   "execution_count": 7,
   "metadata": {
    "scrolled": false
   },
   "outputs": [
    {
     "data": {
      "image/png": "[encoded data removed]",
      "text/plain": [
       "<matplotlib.figure.Figure at 0x1a11049588>"
      ]
     },
     "metadata": {
      "needs_background": "light"
     },
     "output_type": "display_data"
    }
   ],
   "source": [
    "#making axis easier to read\n",
    "temp.Country.replace(\"Nelson, are you aware that people only tolerate you?\", \"Nelson, are\\nyou aware that\\npeople only\\ntolerate you???\", inplace = True)\n",
    "\n",
    "#setting colors and font size\n",
    "color = [\"yellow\",\"yellow\",\"yellow\",\"yellow\",\"yellow\"]\n",
    "sns.set_context(\"notebook\", font_scale=1, rc={\"lines.linewidth\": 2.5})\n",
    "\n",
    "#plot\n",
    "ax = sns.barplot(x = temp.Country,y = temp.PeeSink, palette = color)\n",
    "\n",
    "#axes\n",
    "plt.title('Sink pee-ers by country')\n",
    "#plt.yticks(ax.get_yticks(), ax.get_yticks() * 100)\n",
    "ax.set_xlabel('Geographic Region',fontsize=10);\n",
    "ax.yaxis.set_major_formatter(FormatStrFormatter('%.2f'))\n",
    "plt.legend(temp.Country, bbox_to_anchor=(1, 0.5))\n",
    "ax.set_ylabel('Percent of people who pee in the sink from region',fontsize=10);\n",
    "\n",
    "#N =2 for south america"
   ]
  },
  {
   "cell_type": "markdown",
   "metadata": {},
   "source": [
    "Asian (South and East) and American respondents pee more in their sink than European counterparts, however only 2 respondents were South American so take it with a grain of salt. Also it looks like I already have fans at iHouse"
   ]
  },
  {
   "cell_type": "markdown",
   "metadata": {},
   "source": [
    "## How does distance affect pee rate"
   ]
  },
  {
   "cell_type": "code",
   "execution_count": 8,
   "metadata": {},
   "outputs": [],
   "source": [
    "# select data into two pee-ers and non pee-ers\n",
    "peeyes = pee.loc[pee.PeeSink == 1]\n",
    "peeno = pee.loc[pee.PeeSink == 0]"
   ]
  },
  {
   "cell_type": "code",
   "execution_count": 9,
   "metadata": {
    "scrolled": true
   },
   "outputs": [
    {
     "data": {
      "image/png": "[encoded data removed]",
      "text/plain": [
       "<matplotlib.figure.Figure at 0x1a11183550>"
      ]
     },
     "metadata": {
      "needs_background": "light"
     },
     "output_type": "display_data"
    }
   ],
   "source": [
    "#distribution of pee based on distance from bathroom\n",
    "ax = sns.distplot([peeyes.BathroomDistance], bins = 5, \n",
    "    color = \"yellow\", label = \"pee\",\n",
    "    kde_kws = {\"color\": \"y\", \"lw\": 3},\n",
    "    hist_kws = {\"linewidth\": 5,\"alpha\": .5, \"color\": \"y\"})\n",
    "ax = sns.distplot([peeno.BathroomDistance], bins = 5, \n",
    "    color = \"red\", label = \"no pee\",\n",
    "    kde_kws={\"color\": \"r\", \"lw\": 3},\n",
    "    hist_kws={\"linewidth\": 5, \"alpha\": .3, \"color\": \"red\"})\n",
    "\n",
    "#axes\n",
    "ax.yaxis.set_major_formatter(FormatStrFormatter('%.2f')) # set number of decimals\n",
    "plt.xlabel('Distance from bathroom (# of rooms)')\n",
    "plt.ylabel('Percent of People who pee in sink')\n",
    "plt.title('Peeing vs distance histogram')\n",
    "plt.legend()\n",
    "plt.show()\n"
   ]
  },
  {
   "cell_type": "markdown",
   "metadata": {},
   "source": [
    "Being further away from the bathroom means you are more likely to pee in your sink. Notice the distribution of each are skewed in opposite directions. "
   ]
  },
  {
   "cell_type": "markdown",
   "metadata": {},
   "source": [
    "## How does Religion affect pee rate"
   ]
  },
  {
   "cell_type": "code",
   "execution_count": 10,
   "metadata": {
    "scrolled": false
   },
   "outputs": [
    {
     "data": {
      "text/html": [
       "<div>\n",
       "<style>\n",
       "    .dataframe thead tr:only-child th {\n",
       "        text-align: right;\n",
       "    }\n",
       "\n",
       "    .dataframe thead th {\n",
       "        text-align: left;\n",
       "    }\n",
       "\n",
       "    .dataframe tbody tr th {\n",
       "        vertical-align: top;\n",
       "    }\n",
       "</style>\n",
       "<table border=\"1\" class=\"dataframe\">\n",
       "  <thead>\n",
       "    <tr style=\"text-align: right;\">\n",
       "      <th></th>\n",
       "      <th>Religious</th>\n",
       "      <th>PeeSink</th>\n",
       "      <th>BathroomDistance</th>\n",
       "      <th>Alcohol</th>\n",
       "      <th>Age</th>\n",
       "    </tr>\n",
       "  </thead>\n",
       "  <tbody>\n",
       "    <tr>\n",
       "      <th>0</th>\n",
       "      <td>0</td>\n",
       "      <td>0.333333</td>\n",
       "      <td>9.933333</td>\n",
       "      <td>0.800000</td>\n",
       "      <td>26.214286</td>\n",
       "    </tr>\n",
       "    <tr>\n",
       "      <th>1</th>\n",
       "      <td>1</td>\n",
       "      <td>0.500000</td>\n",
       "      <td>7.214286</td>\n",
       "      <td>0.928571</td>\n",
       "      <td>25.285714</td>\n",
       "    </tr>\n",
       "  </tbody>\n",
       "</table>\n",
       "</div>"
      ],
      "text/plain": [
       "   Religious   PeeSink  BathroomDistance   Alcohol        Age\n",
       "0          0  0.333333          9.933333  0.800000  26.214286\n",
       "1          1  0.500000          7.214286  0.928571  25.285714"
      ]
     },
     "execution_count": 10,
     "metadata": {},
     "output_type": "execute_result"
    }
   ],
   "source": [
    "#average per group in religious\n",
    "peegroup = pee.groupby('Religious', as_index=False).agg('mean')\n",
    "peegroup"
   ]
  },
  {
   "cell_type": "code",
   "execution_count": 11,
   "metadata": {
    "scrolled": true
   },
   "outputs": [
    {
     "data": {
      "image/png": "[encoded data removed]",
      "text/plain": [
       "<matplotlib.figure.Figure at 0x1a11273a58>"
      ]
     },
     "metadata": {
      "needs_background": "light"
     },
     "output_type": "display_data"
    }
   ],
   "source": [
    "#changing labels to be readable\n",
    "graph = pee\n",
    "graph = graph.replace(1, \"Yes\")\n",
    "graph = graph.replace(0, \"No\")\n",
    "graph.PeeSink.replace(\"Yes\", \"Pee\", inplace = True)\n",
    "graph.PeeSink.replace(\"No\", \"No Pee\", inplace = True)\n",
    "\n",
    "##FACET GRID\n",
    "#peeing based on religion\n",
    "my_pal = {\"Pee\": \"yellow\", \"No Pee\": \"red\"}\n",
    "g = sns.FacetGrid(graph, col = \"Religious\")\n",
    "g = g.map(sns.countplot, \"PeeSink\", hue_order = [\"Pee\",\"No Pee\"], color = \"yellow\")\n",
    "\n",
    "#adding title to facet grid\n",
    "plt.subplots_adjust(top=.8)\n",
    "#g.fig.suptitle('Religion and Peeing in Sinks')"
   ]
  },
  {
   "cell_type": "markdown",
   "metadata": {},
   "source": [
    "We were expecting the data to indicate the opposite but it seems that people who are not religious are less likely to pee in the sink"
   ]
  },
  {
   "cell_type": "markdown",
   "metadata": {},
   "source": [
    "## How does age affect pee rate"
   ]
  },
  {
   "cell_type": "code",
   "execution_count": 12,
   "metadata": {
    "scrolled": false
   },
   "outputs": [
    {
     "data": {
      "text/plain": [
       "<matplotlib.axes._subplots.AxesSubplot at 0x1a1131add8>"
      ]
     },
     "execution_count": 12,
     "metadata": {},
     "output_type": "execute_result"
    },
    {
     "data": {
      "image/png": "[encoded data removed]",
      "text/plain": [
       "<matplotlib.figure.Figure at 0x1a111ae860>"
      ]
     },
     "metadata": {
      "needs_background": "light"
     },
     "output_type": "display_data"
    }
   ],
   "source": [
    "#pee based on age\n",
    "graph2 = pee\n",
    "graph2.PeeSink.replace(1, \"Pee\", inplace = True)\n",
    "graph2.PeeSink.replace(0, \"No Pee\", inplace = True)\n",
    "my_pal = {\"Pee\": \"yellow\", \"No Pee\": \"red\"}\n",
    "plt.title('Age vs Peeing in Sink')\n",
    "\n",
    "\n",
    "sns.boxplot(x = graph2.PeeSink, y = graph2.Age, palette = my_pal)\n"
   ]
  },
  {
   "cell_type": "markdown",
   "metadata": {},
   "source": [
    "As expected, being older makes you less likely to pee in the sink"
   ]
  },
  {
   "cell_type": "markdown",
   "metadata": {},
   "source": [
    "## How does alcohol drinking affect pee rate"
   ]
  },
  {
   "cell_type": "code",
   "execution_count": 13,
   "metadata": {
    "scrolled": true
   },
   "outputs": [
    {
     "data": {
      "text/plain": [
       "Text(0.5,1,'People who drink at iHouse')"
      ]
     },
     "execution_count": 13,
     "metadata": {},
     "output_type": "execute_result"
    },
    {
     "data": {
      "image/png": "[encoded data removed]",
      "text/plain": [
       "<matplotlib.figure.Figure at 0x1a11284588>"
      ]
     },
     "metadata": {
      "needs_background": "light"
     },
     "output_type": "display_data"
    }
   ],
   "source": [
    "## the issue is that not enough people have drank alcohol before\n",
    "\n",
    "graph3 = pee\n",
    "graph3.Alcohol.replace(0, \"Doesn't Drink\",  inplace = True)\n",
    "graph3.Alcohol.replace(1, \"Drinks\" ,inplace = True)\n",
    "\n",
    "sns.countplot(graph3.Alcohol, color = \"yellow\")\n",
    "plt.title('People who drink at iHouse')"
   ]
  },
  {
   "cell_type": "markdown",
   "metadata": {},
   "source": [
    "Not enough people who answered the survey don't drink. However, 86.4% of Americans over 18 have drank alcohol according to national statistics which almost exactly matches the count. This is just an indication as to the quality of the survey"
   ]
  },
  {
   "cell_type": "markdown",
   "metadata": {},
   "source": [
    "## Prediction"
   ]
  },
  {
   "cell_type": "code",
   "execution_count": 30,
   "metadata": {
    "scrolled": true
   },
   "outputs": [],
   "source": [
    "pee.PeeSink.replace(\"No Pee\", \"0\", inplace = True)\n",
    "pee.PeeSink.replace(\"Pee\", \"1\", inplace = True)\n",
    "pee.Alcohol.replace(\"Doesn't Drink\",  0, inplace = True)\n",
    "pee.Alcohol.replace(\"Drinks\",  1, inplace = True)\n",
    "\n",
    "pee = pee.drop(6, axis = 'index')\n",
    "\n",
    "Y = pee.PeeSink\n",
    "X = [pee.BathroomDistance, pee.Religious, pee.Alcohol, pee.Age]\n"
   ]
  },
  {
   "cell_type": "code",
   "execution_count": 45,
   "metadata": {},
   "outputs": [],
   "source": [
    "from sklearn.linear_model import LogisticRegression\n",
    "from sklearn.model_selection import train_test_split\n",
    "X = np.array(X).T\n",
    "Y = np.array(Y)"
   ]
  },
  {
   "cell_type": "code",
   "execution_count": 46,
   "metadata": {},
   "outputs": [],
   "source": [
    "#split into x and y\n",
    "X_train, X_test, y_train, y_test = train_test_split(X, Y, test_size=0.2, random_state=42)"
   ]
  },
  {
   "cell_type": "code",
   "execution_count": 71,
   "metadata": {},
   "outputs": [],
   "source": [
    "#fit model\n",
    "clf = LogisticRegression(random_state=0, \n",
    "                         solver='liblinear').fit(X[:,[0,1,3]], Y)"
   ]
  },
  {
   "cell_type": "code",
   "execution_count": 72,
   "metadata": {},
   "outputs": [
    {
     "data": {
      "text/plain": [
       "0.6428571428571429"
      ]
     },
     "execution_count": 72,
     "metadata": {},
     "output_type": "execute_result"
    }
   ],
   "source": [
    "#Bad training error also\n",
    "clf.score(X[:,[0,1,3]], Y)"
   ]
  },
  {
   "cell_type": "markdown",
   "metadata": {},
   "source": [
    "# Conclusion"
   ]
  },
  {
   "cell_type": "markdown",
   "metadata": {},
   "source": [
    "1. 41% of the population pees in the sink\n",
    "2. Americans and Asians are the most likely to pee in their sinks\n",
    "3. Being further away from the bathroom makes you more likely to pee in the sink\n",
    "4. Being religious means you have an even chance of peeing in the sink, where as you are much less likely if you are not religious\n",
    "5. Being younger makes you more likely to pee in the sink\n"
   ]
  }
 ],
 "metadata": {
  "kernelspec": {
   "display_name": "Python 3",
   "language": "python",
   "name": "python3"
  },
  "language_info": {
   "codemirror_mode": {
    "name": "ipython",
    "version": 3
   },
   "file_extension": ".py",
   "mimetype": "text/x-python",
   "name": "python",
   "nbconvert_exporter": "python",
   "pygments_lexer": "ipython3",
   "version": "3.5.4"
  }
 },
 "nbformat": 4,
 "nbformat_minor": 2
}
